{
 "cells": [
  {
   "cell_type": "code",
   "id": "initial_id",
   "metadata": {
    "collapsed": true,
    "ExecuteTime": {
     "end_time": "2024-06-03T04:48:32.184146Z",
     "start_time": "2024-06-03T04:48:30.825770Z"
    }
   },
   "source": [
    "import gower\n",
    "import pandas as pd\n",
    "import numpy as np\n",
    "import matplotlib.pyplot as plt\n",
    "import seaborn as sns\n",
    "from sklearn.decomposition import PCA\n",
    "from scipy.stats import chi2\n",
    "from sklearn.manifold import TSNE\n",
    "from pyod.models.kde import KDE\n",
    "from scipy.spatial.distance import pdist as pdist\n",
    "from scipy.spatial.distance import squareform as sf\n",
    "from sklearn.neighbors import LocalOutlierFactor\n",
    "from sklearn.cluster import DBSCAN\n",
    "from sklearn.metrics import silhouette_score\n",
    "from sklearn.preprocessing import MinMaxScaler\n",
    "from kneed import KneeLocator\n",
    "from sklearn.neighbors import NearestNeighbors as knn\n",
    "from sklearn.metrics import silhouette_score, rand_score, adjusted_rand_score"
   ],
   "outputs": [],
   "execution_count": 1
  },
  {
   "metadata": {
    "ExecuteTime": {
     "end_time": "2024-06-03T04:50:58.785599Z",
     "start_time": "2024-06-03T04:50:58.715438Z"
    }
   },
   "cell_type": "code",
   "source": [
    "labels = pd.read_csv(\"Data/BENCHMARK_outliers.csv\")\n",
    "trueLabels = pd.read_csv(\"Data/data2_preprocessed.csv\")\n",
    "trueLabels = trueLabels['anomalies']\n",
    "labels = labels['SharpOutliers']\n",
    "\n",
    "rand_score(trueLabels, labels)"
   ],
   "id": "2bc245078366a74d",
   "outputs": [
    {
     "data": {
      "text/plain": [
       "0.8626325951705561"
      ]
     },
     "execution_count": 2,
     "metadata": {},
     "output_type": "execute_result"
    }
   ],
   "execution_count": 2
  },
  {
   "metadata": {},
   "cell_type": "code",
   "outputs": [],
   "execution_count": null,
   "source": "",
   "id": "7adb08fa4a757e7c"
  }
 ],
 "metadata": {
  "kernelspec": {
   "display_name": "Python 3",
   "language": "python",
   "name": "python3"
  },
  "language_info": {
   "codemirror_mode": {
    "name": "ipython",
    "version": 2
   },
   "file_extension": ".py",
   "mimetype": "text/x-python",
   "name": "python",
   "nbconvert_exporter": "python",
   "pygments_lexer": "ipython2",
   "version": "2.7.6"
  }
 },
 "nbformat": 4,
 "nbformat_minor": 5
}
